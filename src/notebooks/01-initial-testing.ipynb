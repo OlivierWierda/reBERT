{
 "cells": [
  {
   "cell_type": "code",
   "id": "initial_id",
   "metadata": {
    "collapsed": true,
    "ExecuteTime": {
     "end_time": "2025-06-28T00:25:12.923018Z",
     "start_time": "2025-06-28T00:25:12.920210Z"
    }
   },
   "source": [
    "import torch\n",
    "import pandas as pd\n",
    "from transformers import AutoTokenizer, AutoModel\n",
    "import matplotlib.pyplot as plt\n",
    "\n",
    "# Quick CUDA test\n",
    "device = torch.device('cuda' if torch.cuda.is_available() else 'cpu')\n",
    "print(f\"Using device: {device}\")"
   ],
   "outputs": [
    {
     "name": "stdout",
     "output_type": "stream",
     "text": [
      "Using device: cuda\n"
     ]
    }
   ],
   "execution_count": 2
  },
  {
   "metadata": {
    "ExecuteTime": {
     "end_time": "2025-06-28T00:31:08.343248Z",
     "start_time": "2025-06-28T00:31:07.592814Z"
    }
   },
   "cell_type": "code",
   "source": [
    "# Load a small BERT model to test\n",
    "tokenizer = AutoTokenizer.from_pretrained('bert-base-uncased')\n",
    "# Load model with eager attention (silences warning)\n",
    "model = AutoModel.from_pretrained(\n",
    "    'bert-base-uncased',\n",
    "    attn_implementation=\"eager\"\n",
    ").to(device)\n",
    "\n",
    "print(\"✅ BERT loaded successfully on GPU!\")"
   ],
   "id": "9c7f0133379dda0c",
   "outputs": [
    {
     "name": "stdout",
     "output_type": "stream",
     "text": [
      "✅ BERT loaded successfully on GPU!\n"
     ]
    }
   ],
   "execution_count": 6
  },
  {
   "metadata": {
    "ExecuteTime": {
     "end_time": "2025-06-28T00:31:09.589164Z",
     "start_time": "2025-06-28T00:31:09.577760Z"
    }
   },
   "cell_type": "code",
   "source": [
    "# In your notebook - let's see what BERT gives us\n",
    "text = \"Reading comprehension requires understanding context and relationships.\"\n",
    "inputs = tokenizer(text, return_tensors=\"pt\").to(device)\n",
    "\n",
    "with torch.no_grad():\n",
    "    outputs = model(**inputs, output_hidden_states=True, output_attentions=True)\n",
    "\n",
    "print(f\"Hidden states shape: {outputs.hidden_states[-1].shape}\")  # [batch, seq_len, hidden_dim]\n",
    "print(f\"Number of layers: {len(outputs.hidden_states)}\")\n",
    "print(f\"Attention heads: {outputs.attentions[0].shape}\")"
   ],
   "id": "6406042a56e3c75a",
   "outputs": [
    {
     "name": "stdout",
     "output_type": "stream",
     "text": [
      "Hidden states shape: torch.Size([1, 10, 768])\n",
      "Number of layers: 13\n",
      "Attention heads: torch.Size([1, 12, 10, 10])\n"
     ]
    }
   ],
   "execution_count": 7
  }
 ],
 "metadata": {
  "kernelspec": {
   "display_name": "Python 3",
   "language": "python",
   "name": "python3"
  },
  "language_info": {
   "codemirror_mode": {
    "name": "ipython",
    "version": 2
   },
   "file_extension": ".py",
   "mimetype": "text/x-python",
   "name": "python",
   "nbconvert_exporter": "python",
   "pygments_lexer": "ipython2",
   "version": "2.7.6"
  }
 },
 "nbformat": 4,
 "nbformat_minor": 5
}
